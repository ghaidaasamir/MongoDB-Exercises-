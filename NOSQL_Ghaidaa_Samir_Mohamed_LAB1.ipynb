{
 "cells": [
  {
   "cell_type": "code",
   "execution_count": 1,
   "id": "3b764b9c",
   "metadata": {},
   "outputs": [],
   "source": [
    "#pip install pymongo"
   ]
  },
  {
   "cell_type": "code",
   "execution_count": 2,
   "id": "edf2010e",
   "metadata": {},
   "outputs": [],
   "source": [
    "from pymongo import MongoClient"
   ]
  },
  {
   "cell_type": "markdown",
   "id": "3dda78fd",
   "metadata": {},
   "source": [
    "# Connecting to MongoDB"
   ]
  },
  {
   "cell_type": "code",
   "execution_count": 3,
   "id": "1ad8848c",
   "metadata": {},
   "outputs": [],
   "source": [
    "client = MongoClient(\"mongodb://localhost:27017\") "
   ]
  },
  {
   "cell_type": "code",
   "execution_count": 4,
   "id": "e5373029",
   "metadata": {},
   "outputs": [],
   "source": [
    "db = client.local"
   ]
  },
  {
   "cell_type": "markdown",
   "id": "651beabb",
   "metadata": {},
   "source": [
    "# Helper functions"
   ]
  },
  {
   "cell_type": "code",
   "execution_count": 5,
   "id": "7538d2f0",
   "metadata": {},
   "outputs": [],
   "source": [
    "def print_cursor(c):\n",
    "    for i in cursor:\n",
    "        print(i)"
   ]
  },
  {
   "cell_type": "markdown",
   "id": "4bb99a39",
   "metadata": {},
   "source": [
    "---\n",
    "# Insert Documents"
   ]
  },
  {
   "cell_type": "code",
   "execution_count": 6,
   "id": "21692902",
   "metadata": {},
   "outputs": [],
   "source": [
    "client.drop_database(\"local\")"
   ]
  },
  {
   "cell_type": "markdown",
   "id": "5fda3fbd",
   "metadata": {},
   "source": [
    "## Insert a Single Document"
   ]
  },
  {
   "cell_type": "code",
   "execution_count": 7,
   "id": "ada15def",
   "metadata": {},
   "outputs": [
    {
     "name": "stdout",
     "output_type": "stream",
     "text": [
      "{'_id': ObjectId('6210f3bef908538b3e74efe2'), 'item': 'canvas', 'qty': 100, 'tags': ['cotton'], 'size': {'h': 28, 'w': 35.5, 'uom': 'cm'}}\n"
     ]
    }
   ],
   "source": [
    "db.inventory.insert_one(\n",
    "    {\"item\": \"canvas\",\n",
    "     \"qty\": 100,\n",
    "     \"tags\": [\"cotton\"],\n",
    "     \"size\": {\"h\": 28, \"w\": 35.5, \"uom\": \"cm\"}})\n",
    "\n",
    "cursor = db.inventory.find({\"item\": \"canvas\"})\n",
    "print_cursor(cursor)"
   ]
  },
  {
   "cell_type": "markdown",
   "id": "7a281c61",
   "metadata": {},
   "source": [
    "## Insert Multiple Documents"
   ]
  },
  {
   "cell_type": "code",
   "execution_count": 8,
   "id": "63af25b2",
   "metadata": {},
   "outputs": [
    {
     "name": "stdout",
     "output_type": "stream",
     "text": [
      "{'_id': ObjectId('6210f3bef908538b3e74efe2'), 'item': 'canvas', 'qty': 100, 'tags': ['cotton'], 'size': {'h': 28, 'w': 35.5, 'uom': 'cm'}}\n",
      "{'_id': ObjectId('6210f3bef908538b3e74efe3'), 'item': 'journal', 'qty': 25, 'tags': ['blank', 'red'], 'size': {'h': 14, 'w': 21, 'uom': 'cm'}}\n",
      "{'_id': ObjectId('6210f3bef908538b3e74efe4'), 'item': 'mat', 'qty': 85, 'tags': ['gray'], 'size': {'h': 27.9, 'w': 35.5, 'uom': 'cm'}}\n",
      "{'_id': ObjectId('6210f3bef908538b3e74efe5'), 'item': 'mousepad', 'qty': 25, 'tags': ['gel', 'blue'], 'size': {'h': 19, 'w': 22.85, 'uom': 'cm'}}\n"
     ]
    }
   ],
   "source": [
    "db.inventory.insert_many([\n",
    "    {\"item\": \"journal\",\n",
    "     \"qty\": 25,\n",
    "     \"tags\": [\"blank\", \"red\"],\n",
    "     \"size\": {\"h\": 14, \"w\": 21, \"uom\": \"cm\"}},\n",
    "    {\"item\": \"mat\",\n",
    "     \"qty\": 85,\n",
    "     \"tags\": [\"gray\"],\n",
    "     \"size\": {\"h\": 27.9, \"w\": 35.5, \"uom\": \"cm\"}},\n",
    "    {\"item\": \"mousepad\",\n",
    "     \"qty\": 25,\n",
    "     \"tags\": [\"gel\", \"blue\"],\n",
    "     \"size\": {\"h\": 19, \"w\": 22.85, \"uom\": \"cm\"}}])\n",
    "\n",
    "cursor = db.inventory.find()\n",
    "print_cursor(cursor)"
   ]
  },
  {
   "cell_type": "markdown",
   "id": "0980973f",
   "metadata": {},
   "source": [
    "---\n",
    "# Query Documents"
   ]
  },
  {
   "cell_type": "code",
   "execution_count": 9,
   "id": "c5b4ef83",
   "metadata": {},
   "outputs": [],
   "source": [
    "#client.drop_database(\"local\")\n"
   ]
  },
  {
   "cell_type": "markdown",
   "id": "5ebb69ff",
   "metadata": {},
   "source": [
    "## Select All Documents in a Collection"
   ]
  },
  {
   "cell_type": "code",
   "execution_count": 10,
   "id": "8fd7b135",
   "metadata": {},
   "outputs": [
    {
     "name": "stdout",
     "output_type": "stream",
     "text": [
      "{'_id': ObjectId('6210f3bef908538b3e74efe2'), 'item': 'canvas', 'qty': 100, 'tags': ['cotton'], 'size': {'h': 28, 'w': 35.5, 'uom': 'cm'}}\n",
      "{'_id': ObjectId('6210f3bef908538b3e74efe3'), 'item': 'journal', 'qty': 25, 'tags': ['blank', 'red'], 'size': {'h': 14, 'w': 21, 'uom': 'cm'}}\n",
      "{'_id': ObjectId('6210f3bef908538b3e74efe4'), 'item': 'mat', 'qty': 85, 'tags': ['gray'], 'size': {'h': 27.9, 'w': 35.5, 'uom': 'cm'}}\n",
      "{'_id': ObjectId('6210f3bef908538b3e74efe5'), 'item': 'mousepad', 'qty': 25, 'tags': ['gel', 'blue'], 'size': {'h': 19, 'w': 22.85, 'uom': 'cm'}}\n"
     ]
    }
   ],
   "source": [
    "cursor = db.inventory.find({})\n",
    "print_cursor(cursor)"
   ]
  },
  {
   "cell_type": "markdown",
   "id": "b3fcfbb8",
   "metadata": {},
   "source": [
    "## Specify Equality Condition"
   ]
  },
  {
   "cell_type": "code",
   "execution_count": 11,
   "id": "d50e6c2b",
   "metadata": {},
   "outputs": [
    {
     "name": "stdout",
     "output_type": "stream",
     "text": [
      "{'_id': ObjectId('6210f3bef908538b3e74efe5'), 'item': 'mousepad', 'qty': 25, 'tags': ['gel', 'blue'], 'size': {'h': 19, 'w': 22.85, 'uom': 'cm'}}\n"
     ]
    }
   ],
   "source": [
    "cursor = db.inventory.find({\"item\": \"mousepad\"})\n",
    "print_cursor(cursor)\n"
   ]
  },
  {
   "cell_type": "markdown",
   "id": "c9bf5904",
   "metadata": {},
   "source": [
    "## Specify Conditions Using Query Operators"
   ]
  },
  {
   "cell_type": "code",
   "execution_count": 12,
   "id": "f4e8aae8",
   "metadata": {},
   "outputs": [
    {
     "name": "stdout",
     "output_type": "stream",
     "text": [
      "{'_id': ObjectId('6210f3bef908538b3e74efe2'), 'item': 'canvas', 'qty': 100, 'tags': ['cotton'], 'size': {'h': 28, 'w': 35.5, 'uom': 'cm'}}\n",
      "{'_id': ObjectId('6210f3bef908538b3e74efe3'), 'item': 'journal', 'qty': 25, 'tags': ['blank', 'red'], 'size': {'h': 14, 'w': 21, 'uom': 'cm'}}\n",
      "{'_id': ObjectId('6210f3bef908538b3e74efe4'), 'item': 'mat', 'qty': 85, 'tags': ['gray'], 'size': {'h': 27.9, 'w': 35.5, 'uom': 'cm'}}\n",
      "{'_id': ObjectId('6210f3bef908538b3e74efe5'), 'item': 'mousepad', 'qty': 25, 'tags': ['gel', 'blue'], 'size': {'h': 19, 'w': 22.85, 'uom': 'cm'}}\n"
     ]
    }
   ],
   "source": [
    "cursor = db.inventory.find({\"size.h\": {\"$gt\": 13}})\n",
    "print_cursor(cursor)"
   ]
  },
  {
   "cell_type": "markdown",
   "id": "a3e2039f",
   "metadata": {},
   "source": [
    "## Specify AND Conditions"
   ]
  },
  {
   "cell_type": "code",
   "execution_count": 13,
   "id": "64a69ada",
   "metadata": {},
   "outputs": [
    {
     "name": "stdout",
     "output_type": "stream",
     "text": [
      "{'_id': ObjectId('6210f3bef908538b3e74efe3'), 'item': 'journal', 'qty': 25, 'tags': ['blank', 'red'], 'size': {'h': 14, 'w': 21, 'uom': 'cm'}}\n"
     ]
    }
   ],
   "source": [
    "cursor = db.inventory.find({\"item\": \"journal\", \"qty\": {\"$gt\": 20}})\n",
    "print_cursor(cursor)"
   ]
  },
  {
   "cell_type": "markdown",
   "id": "d3ab4ccf",
   "metadata": {},
   "source": [
    "## Specify OR Conditions"
   ]
  },
  {
   "cell_type": "code",
   "execution_count": 14,
   "id": "8e032dd4",
   "metadata": {},
   "outputs": [
    {
     "name": "stdout",
     "output_type": "stream",
     "text": [
      "{'_id': ObjectId('6210f3bef908538b3e74efe3'), 'item': 'journal', 'qty': 25, 'tags': ['blank', 'red'], 'size': {'h': 14, 'w': 21, 'uom': 'cm'}}\n",
      "{'_id': ObjectId('6210f3bef908538b3e74efe5'), 'item': 'mousepad', 'qty': 25, 'tags': ['gel', 'blue'], 'size': {'h': 19, 'w': 22.85, 'uom': 'cm'}}\n"
     ]
    }
   ],
   "source": [
    "cursor = db.inventory.find({\"$or\": [{\"item\": \"journal\"}, {\"qty\": {\"$lte\": 30}}]})\n",
    "print_cursor(cursor)"
   ]
  },
  {
   "cell_type": "markdown",
   "id": "2e5c7002",
   "metadata": {},
   "source": [
    "## Specify AND as well as OR Conditions"
   ]
  },
  {
   "cell_type": "code",
   "execution_count": 15,
   "id": "6351b699",
   "metadata": {},
   "outputs": [
    {
     "name": "stdout",
     "output_type": "stream",
     "text": [
      "{'_id': ObjectId('6210f3bef908538b3e74efe3'), 'item': 'journal', 'qty': 25, 'tags': ['blank', 'red'], 'size': {'h': 14, 'w': 21, 'uom': 'cm'}}\n"
     ]
    }
   ],
   "source": [
    "cursor = db.inventory.find(\n",
    "    {\"item\": \"journal\", \"$or\": [{\"qty\": {\"$lte\": 25}}, {\"size.h\": {\"$gte\": 12}}]})\n",
    "print_cursor(cursor)    "
   ]
  },
  {
   "cell_type": "markdown",
   "id": "9080b917",
   "metadata": {},
   "source": [
    "---\n",
    "# Query on Embedded/Nested Documents"
   ]
  },
  {
   "cell_type": "code",
   "execution_count": 16,
   "id": "580c2ec7",
   "metadata": {},
   "outputs": [],
   "source": [
    "client.drop_database(\"local\")"
   ]
  },
  {
   "cell_type": "code",
   "execution_count": 17,
   "id": "6406928a",
   "metadata": {},
   "outputs": [
    {
     "data": {
      "text/plain": [
       "<pymongo.results.InsertManyResult at 0x1f23cc88d80>"
      ]
     },
     "execution_count": 17,
     "metadata": {},
     "output_type": "execute_result"
    }
   ],
   "source": [
    "from bson.son import SON\n",
    "\n",
    "db.inventory.insert_many(\n",
    "    [\n",
    "        {\n",
    "            \"item\": \"journal\",\n",
    "            \"qty\": 25,\n",
    "            \"size\": SON([(\"h\", 14), (\"w\", 21), (\"uom\", \"cm\")]),\n",
    "            \"status\": \"A\",\n",
    "        },\n",
    "        {\n",
    "            \"item\": \"notebook\",\n",
    "            \"qty\": 50,\n",
    "            \"size\": SON([(\"h\", 8.5), (\"w\", 11), (\"uom\", \"in\")]),\n",
    "            \"status\": \"A\",\n",
    "        },\n",
    "        {\n",
    "            \"item\": \"paper\",\n",
    "            \"qty\": 100,\n",
    "            \"size\": SON([(\"h\", 8.5), (\"w\", 11), (\"uom\", \"in\")]),\n",
    "            \"status\": \"D\",\n",
    "        },\n",
    "        {\n",
    "            \"item\": \"planner\",\n",
    "            \"qty\": 75,\n",
    "            \"size\": SON([(\"h\", 22.85), (\"w\", 30), (\"uom\", \"cm\")]),\n",
    "            \"status\": \"D\",\n",
    "        },\n",
    "        {\n",
    "            \"item\": \"postcard\",\n",
    "            \"qty\": 45,\n",
    "            \"size\": SON([(\"h\", 10), (\"w\", 15.25), (\"uom\", \"cm\")]),\n",
    "            \"status\": \"A\",\n",
    "        },\n",
    "    ]\n",
    ")\n"
   ]
  },
  {
   "cell_type": "markdown",
   "id": "41f2cd7d",
   "metadata": {},
   "source": [
    "## Match an Embedded/Nested Document"
   ]
  },
  {
   "cell_type": "code",
   "execution_count": 18,
   "id": "f7811979",
   "metadata": {},
   "outputs": [
    {
     "name": "stdout",
     "output_type": "stream",
     "text": [
      "{'_id': ObjectId('6210f3bef908538b3e74efea'), 'item': 'postcard', 'qty': 45, 'size': {'h': 10, 'w': 15.25, 'uom': 'cm'}, 'status': 'A'}\n"
     ]
    }
   ],
   "source": [
    "cursor = db.inventory.find({\"size\": SON([(\"h\", 10), (\"w\", 15.25), (\"uom\", \"cm\")])})\n",
    "print_cursor(cursor)"
   ]
  },
  {
   "cell_type": "markdown",
   "id": "5b9cb45d",
   "metadata": {},
   "source": [
    "## Query on Nested Field"
   ]
  },
  {
   "cell_type": "code",
   "execution_count": 19,
   "id": "37b82105",
   "metadata": {},
   "outputs": [
    {
     "name": "stdout",
     "output_type": "stream",
     "text": [
      "{'_id': ObjectId('6210f3bef908538b3e74efe6'), 'item': 'journal', 'qty': 25, 'size': {'h': 14, 'w': 21, 'uom': 'cm'}, 'status': 'A'}\n"
     ]
    }
   ],
   "source": [
    "cursor = db.inventory.find({\"size.w\": 21})\n",
    "print_cursor(cursor)"
   ]
  },
  {
   "cell_type": "markdown",
   "id": "9701c793",
   "metadata": {},
   "source": [
    "### Specify Equality Match on a Nested Field"
   ]
  },
  {
   "cell_type": "code",
   "execution_count": 20,
   "id": "354399ef",
   "metadata": {},
   "outputs": [
    {
     "name": "stdout",
     "output_type": "stream",
     "text": [
      "{'_id': ObjectId('6210f3bef908538b3e74efe6'), 'item': 'journal', 'qty': 25, 'size': {'h': 14, 'w': 21, 'uom': 'cm'}, 'status': 'A'}\n",
      "{'_id': ObjectId('6210f3bef908538b3e74efe9'), 'item': 'planner', 'qty': 75, 'size': {'h': 22.85, 'w': 30, 'uom': 'cm'}, 'status': 'D'}\n",
      "{'_id': ObjectId('6210f3bef908538b3e74efea'), 'item': 'postcard', 'qty': 45, 'size': {'h': 10, 'w': 15.25, 'uom': 'cm'}, 'status': 'A'}\n"
     ]
    }
   ],
   "source": [
    "cursor = db.inventory.find({\"size.uom\": \"cm\"})\n",
    "print_cursor(cursor)"
   ]
  },
  {
   "cell_type": "markdown",
   "id": "833f5642",
   "metadata": {},
   "source": [
    "### Specify Match using Query Operator"
   ]
  },
  {
   "cell_type": "code",
   "execution_count": 21,
   "id": "ffff70ef",
   "metadata": {},
   "outputs": [
    {
     "name": "stdout",
     "output_type": "stream",
     "text": [
      "{'_id': ObjectId('6210f3bef908538b3e74efe7'), 'item': 'notebook', 'qty': 50, 'size': {'h': 8.5, 'w': 11, 'uom': 'in'}, 'status': 'A'}\n",
      "{'_id': ObjectId('6210f3bef908538b3e74efe8'), 'item': 'paper', 'qty': 100, 'size': {'h': 8.5, 'w': 11, 'uom': 'in'}, 'status': 'D'}\n"
     ]
    }
   ],
   "source": [
    "cursor = db.inventory.find({\"size.uom\": \"in\"})\n",
    "print_cursor(cursor)"
   ]
  },
  {
   "cell_type": "markdown",
   "id": "8cd74a23",
   "metadata": {},
   "source": [
    "### Specify AND Condition"
   ]
  },
  {
   "cell_type": "code",
   "execution_count": 22,
   "id": "2bb7b19c",
   "metadata": {},
   "outputs": [
    {
     "name": "stdout",
     "output_type": "stream",
     "text": [
      "{'_id': ObjectId('6210f3bef908538b3e74efe7'), 'item': 'notebook', 'qty': 50, 'size': {'h': 8.5, 'w': 11, 'uom': 'in'}, 'status': 'A'}\n"
     ]
    }
   ],
   "source": [
    "cursor = db.inventory.find({\"size.h\": {\"$lt\": 20}, \"size.w\": {\"$lte\": 15}, \"status\": \"A\"})\n",
    "print_cursor(cursor)"
   ]
  },
  {
   "cell_type": "markdown",
   "id": "a87d0d06",
   "metadata": {},
   "source": [
    "---\n",
    "# Query an Array\n"
   ]
  },
  {
   "cell_type": "code",
   "execution_count": 23,
   "id": "a750688d",
   "metadata": {},
   "outputs": [],
   "source": [
    "client.drop_database(\"local\")"
   ]
  },
  {
   "cell_type": "code",
   "execution_count": 24,
   "id": "9b57d904",
   "metadata": {},
   "outputs": [
    {
     "data": {
      "text/plain": [
       "<pymongo.results.InsertManyResult at 0x1f23cc7f6c0>"
      ]
     },
     "execution_count": 24,
     "metadata": {},
     "output_type": "execute_result"
    }
   ],
   "source": [
    "db.inventory.insert_many(\n",
    "    [\n",
    "        {\"item\": \"journal\", \"qty\": 25, \"tags\": [\"blank\", \"red\"], \"dim_cm\": [14, 21]},\n",
    "        {\"item\": \"notebook\", \"qty\": 50, \"tags\": [\"red\", \"blank\"], \"dim_cm\": [14, 21]},\n",
    "        {\n",
    "            \"item\": \"paper\",\n",
    "            \"qty\": 100,\n",
    "            \"tags\": [\"red\", \"blank\", \"plain\"],\n",
    "            \"dim_cm\": [14, 21],\n",
    "        },\n",
    "        {\"item\": \"planner\", \"qty\": 75, \"tags\": [\"blank\", \"red\"], \"dim_cm\": [22.85, 30]},\n",
    "        {\"item\": \"postcard\", \"qty\": 45, \"tags\": [\"blue\"], \"dim_cm\": [10, 15.25]},\n",
    "    ]\n",
    ")"
   ]
  },
  {
   "cell_type": "markdown",
   "id": "943811d0",
   "metadata": {},
   "source": [
    "## Match an Array"
   ]
  },
  {
   "cell_type": "code",
   "execution_count": 25,
   "id": "73ee3d4e",
   "metadata": {},
   "outputs": [
    {
     "name": "stdout",
     "output_type": "stream",
     "text": [
      "{'_id': ObjectId('6210f3bef908538b3e74efeb'), 'item': 'journal', 'qty': 25, 'tags': ['blank', 'red'], 'dim_cm': [14, 21]}\n",
      "{'_id': ObjectId('6210f3bef908538b3e74efee'), 'item': 'planner', 'qty': 75, 'tags': ['blank', 'red'], 'dim_cm': [22.85, 30]}\n"
     ]
    }
   ],
   "source": [
    "cursor = db.inventory.find({\"tags\": [\"blank\", \"red\"]})\n",
    "print_cursor(cursor)"
   ]
  },
  {
   "cell_type": "markdown",
   "id": "f901db1d",
   "metadata": {},
   "source": [
    "## Query an Array for an Element"
   ]
  },
  {
   "cell_type": "code",
   "execution_count": 26,
   "id": "75702593",
   "metadata": {},
   "outputs": [
    {
     "name": "stdout",
     "output_type": "stream",
     "text": [
      "{'_id': ObjectId('6210f3bef908538b3e74efeb'), 'item': 'journal', 'qty': 25, 'tags': ['blank', 'red'], 'dim_cm': [14, 21]}\n",
      "{'_id': ObjectId('6210f3bef908538b3e74efec'), 'item': 'notebook', 'qty': 50, 'tags': ['red', 'blank'], 'dim_cm': [14, 21]}\n",
      "{'_id': ObjectId('6210f3bef908538b3e74efed'), 'item': 'paper', 'qty': 100, 'tags': ['red', 'blank', 'plain'], 'dim_cm': [14, 21]}\n",
      "{'_id': ObjectId('6210f3bef908538b3e74efee'), 'item': 'planner', 'qty': 75, 'tags': ['blank', 'red'], 'dim_cm': [22.85, 30]}\n"
     ]
    }
   ],
   "source": [
    "cursor = db.inventory.find({\"tags\": \"blank\"})\n",
    "print_cursor(cursor)"
   ]
  },
  {
   "cell_type": "markdown",
   "id": "8ebaf80e",
   "metadata": {},
   "source": [
    "## Query an Array for an Element\n",
    "### Query an Array with Compound Filter Conditions on the Array Elements"
   ]
  },
  {
   "cell_type": "code",
   "execution_count": 27,
   "id": "226f68bf",
   "metadata": {},
   "outputs": [
    {
     "name": "stdout",
     "output_type": "stream",
     "text": [
      "{'_id': ObjectId('6210f3bef908538b3e74efeb'), 'item': 'journal', 'qty': 25, 'tags': ['blank', 'red'], 'dim_cm': [14, 21]}\n",
      "{'_id': ObjectId('6210f3bef908538b3e74efec'), 'item': 'notebook', 'qty': 50, 'tags': ['red', 'blank'], 'dim_cm': [14, 21]}\n",
      "{'_id': ObjectId('6210f3bef908538b3e74efed'), 'item': 'paper', 'qty': 100, 'tags': ['red', 'blank', 'plain'], 'dim_cm': [14, 21]}\n",
      "{'_id': ObjectId('6210f3bef908538b3e74efef'), 'item': 'postcard', 'qty': 45, 'tags': ['blue'], 'dim_cm': [10, 15.25]}\n"
     ]
    }
   ],
   "source": [
    "cursor = db.inventory.find({\"dim_cm\": {\"$gte\": 13, \"$lt\": 22}})\n",
    "print_cursor(cursor)"
   ]
  },
  {
   "cell_type": "markdown",
   "id": "1b5796ef",
   "metadata": {},
   "source": [
    "### Query for an Array Element that Meets Multiple Criteria"
   ]
  },
  {
   "cell_type": "code",
   "execution_count": 28,
   "id": "cc04c9e2",
   "metadata": {},
   "outputs": [
    {
     "name": "stdout",
     "output_type": "stream",
     "text": [
      "{'_id': ObjectId('6210f3bef908538b3e74efee'), 'item': 'planner', 'qty': 75, 'tags': ['blank', 'red'], 'dim_cm': [22.85, 30]}\n"
     ]
    }
   ],
   "source": [
    "cursor = db.inventory.find({\"dim_cm\": {\"$gt\": 21, \"$lt\": 35}})\n",
    "print_cursor(cursor)"
   ]
  },
  {
   "cell_type": "markdown",
   "id": "a7c93571",
   "metadata": {},
   "source": [
    "### Query for an Element by the Array Index Position"
   ]
  },
  {
   "cell_type": "markdown",
   "id": "72a72b49",
   "metadata": {},
   "source": [
    "### Query an Array by Array Length"
   ]
  },
  {
   "cell_type": "code",
   "execution_count": 29,
   "id": "8c446e46",
   "metadata": {},
   "outputs": [
    {
     "name": "stdout",
     "output_type": "stream",
     "text": [
      "{'_id': ObjectId('6210f3bef908538b3e74efeb'), 'item': 'journal', 'qty': 25, 'tags': ['blank', 'red'], 'dim_cm': [14, 21]}\n",
      "{'_id': ObjectId('6210f3bef908538b3e74efec'), 'item': 'notebook', 'qty': 50, 'tags': ['red', 'blank'], 'dim_cm': [14, 21]}\n",
      "{'_id': ObjectId('6210f3bef908538b3e74efee'), 'item': 'planner', 'qty': 75, 'tags': ['blank', 'red'], 'dim_cm': [22.85, 30]}\n"
     ]
    }
   ],
   "source": [
    "cursor = db.inventory.find({\"tags\": {\"$size\": 2}})\n",
    "print_cursor(cursor)"
   ]
  },
  {
   "cell_type": "markdown",
   "id": "e40f45e1",
   "metadata": {},
   "source": [
    "---\n",
    "# Query an Array of Embedded Documents"
   ]
  },
  {
   "cell_type": "code",
   "execution_count": 30,
   "id": "cb6cab03",
   "metadata": {},
   "outputs": [],
   "source": [
    "client.drop_database(\"local\")"
   ]
  },
  {
   "cell_type": "code",
   "execution_count": 31,
   "id": "5e2a14c0",
   "metadata": {},
   "outputs": [
    {
     "data": {
      "text/plain": [
       "<pymongo.results.InsertManyResult at 0x1f23cc6db00>"
      ]
     },
     "execution_count": 31,
     "metadata": {},
     "output_type": "execute_result"
    }
   ],
   "source": [
    "# Subdocument key order matters in a few of these examples so we have\n",
    "# to use bson.son.SON instead of a Python dict.\n",
    "from bson.son import SON\n",
    "\n",
    "db.inventory.insert_many(\n",
    "    [\n",
    "        {\n",
    "            \"item\": \"journal\",\n",
    "            \"instock\": [\n",
    "                SON([(\"warehouse\", \"A\"), (\"qty\", 5)]),\n",
    "                SON([(\"warehouse\", \"C\"), (\"qty\", 15)]),\n",
    "            ],\n",
    "        },\n",
    "        {\"item\": \"notebook\", \"instock\": [SON([(\"warehouse\", \"C\"), (\"qty\", 5)])]},\n",
    "        {\n",
    "            \"item\": \"paper\",\n",
    "            \"instock\": [\n",
    "                SON([(\"warehouse\", \"A\"), (\"qty\", 60)]),\n",
    "                SON([(\"warehouse\", \"B\"), (\"qty\", 15)]),\n",
    "            ],\n",
    "        },\n",
    "        {\n",
    "            \"item\": \"planner\",\n",
    "            \"instock\": [\n",
    "                SON([(\"warehouse\", \"A\"), (\"qty\", 40)]),\n",
    "                SON([(\"warehouse\", \"B\"), (\"qty\", 5)]),\n",
    "            ],\n",
    "        },\n",
    "        {\n",
    "            \"item\": \"postcard\",\n",
    "            \"instock\": [\n",
    "                SON([(\"warehouse\", \"B\"), (\"qty\", 15)]),\n",
    "                SON([(\"warehouse\", \"C\"), (\"qty\", 35)]),\n",
    "            ],\n",
    "        },\n",
    "    ]\n",
    ")"
   ]
  },
  {
   "cell_type": "markdown",
   "id": "824e8dd4",
   "metadata": {},
   "source": [
    "## Query for a Document Nested in an Array"
   ]
  },
  {
   "cell_type": "code",
   "execution_count": 32,
   "id": "4582f62c",
   "metadata": {},
   "outputs": [
    {
     "name": "stdout",
     "output_type": "stream",
     "text": [
      "{'_id': ObjectId('6210f3bef908538b3e74eff2'), 'item': 'paper', 'instock': [{'warehouse': 'A', 'qty': 60}, {'warehouse': 'B', 'qty': 15}]}\n"
     ]
    }
   ],
   "source": [
    "cursor = db.inventory.find({\"instock\": SON([(\"warehouse\", \"A\"), (\"qty\", 60)])})\n",
    "print_cursor(cursor)"
   ]
  },
  {
   "cell_type": "markdown",
   "id": "d44081cc",
   "metadata": {},
   "source": [
    "## Specify a Query Condition on a Field in an Array of Documents"
   ]
  },
  {
   "cell_type": "code",
   "execution_count": 33,
   "id": "52667061",
   "metadata": {},
   "outputs": [
    {
     "name": "stdout",
     "output_type": "stream",
     "text": [
      "{'_id': ObjectId('6210f3bef908538b3e74eff0'), 'item': 'journal', 'instock': [{'warehouse': 'A', 'qty': 5}, {'warehouse': 'C', 'qty': 15}]}\n",
      "{'_id': ObjectId('6210f3bef908538b3e74eff1'), 'item': 'notebook', 'instock': [{'warehouse': 'C', 'qty': 5}]}\n",
      "{'_id': ObjectId('6210f3bef908538b3e74eff2'), 'item': 'paper', 'instock': [{'warehouse': 'A', 'qty': 60}, {'warehouse': 'B', 'qty': 15}]}\n",
      "{'_id': ObjectId('6210f3bef908538b3e74eff3'), 'item': 'planner', 'instock': [{'warehouse': 'A', 'qty': 40}, {'warehouse': 'B', 'qty': 5}]}\n",
      "{'_id': ObjectId('6210f3bef908538b3e74eff4'), 'item': 'postcard', 'instock': [{'warehouse': 'B', 'qty': 15}, {'warehouse': 'C', 'qty': 35}]}\n"
     ]
    }
   ],
   "source": [
    "cursor = db.inventory.find({\"instock.qty\": {\"$lte\": 40}})\n",
    "print_cursor(cursor)"
   ]
  },
  {
   "cell_type": "markdown",
   "id": "2e735bf2",
   "metadata": {},
   "source": [
    "### Specify a Query Condition on a Field Embedded in an Array of Documents"
   ]
  },
  {
   "cell_type": "code",
   "execution_count": 34,
   "id": "8883414c",
   "metadata": {},
   "outputs": [
    {
     "name": "stdout",
     "output_type": "stream",
     "text": [
      "{'_id': ObjectId('6210f3bef908538b3e74eff2'), 'item': 'paper', 'instock': [{'warehouse': 'A', 'qty': 60}, {'warehouse': 'B', 'qty': 15}]}\n",
      "{'_id': ObjectId('6210f3bef908538b3e74eff3'), 'item': 'planner', 'instock': [{'warehouse': 'A', 'qty': 40}, {'warehouse': 'B', 'qty': 5}]}\n",
      "{'_id': ObjectId('6210f3bef908538b3e74eff4'), 'item': 'postcard', 'instock': [{'warehouse': 'B', 'qty': 15}, {'warehouse': 'C', 'qty': 35}]}\n"
     ]
    }
   ],
   "source": [
    "cursor = db.inventory.find({\"instock.qty\": {\"$gte\": 30}})\n",
    "print_cursor(cursor)"
   ]
  },
  {
   "cell_type": "markdown",
   "id": "08b3e285",
   "metadata": {},
   "source": [
    "### Use the Array Index to Query for a Field in the Embedded Document"
   ]
  },
  {
   "cell_type": "code",
   "execution_count": 35,
   "id": "3b4d382a",
   "metadata": {},
   "outputs": [
    {
     "name": "stdout",
     "output_type": "stream",
     "text": [
      "{'_id': ObjectId('6210f3bef908538b3e74eff0'), 'item': 'journal', 'instock': [{'warehouse': 'A', 'qty': 5}, {'warehouse': 'C', 'qty': 15}]}\n",
      "{'_id': ObjectId('6210f3bef908538b3e74eff2'), 'item': 'paper', 'instock': [{'warehouse': 'A', 'qty': 60}, {'warehouse': 'B', 'qty': 15}]}\n",
      "{'_id': ObjectId('6210f3bef908538b3e74eff3'), 'item': 'planner', 'instock': [{'warehouse': 'A', 'qty': 40}, {'warehouse': 'B', 'qty': 5}]}\n",
      "{'_id': ObjectId('6210f3bef908538b3e74eff4'), 'item': 'postcard', 'instock': [{'warehouse': 'B', 'qty': 15}, {'warehouse': 'C', 'qty': 35}]}\n"
     ]
    }
   ],
   "source": [
    "cursor = db.inventory.find({\"instock.1.qty\": {\"$gte\": 5}})\n",
    "print_cursor(cursor)"
   ]
  },
  {
   "cell_type": "markdown",
   "id": "eb2ad87c",
   "metadata": {},
   "source": [
    "## Specify Multiple Conditions for Array of Documents"
   ]
  },
  {
   "cell_type": "markdown",
   "id": "cbdc67e8",
   "metadata": {},
   "source": [
    "### A Single Nested Document Meets Multiple Query Conditions on Nested Fields"
   ]
  },
  {
   "cell_type": "code",
   "execution_count": 36,
   "id": "5bccbbcd",
   "metadata": {},
   "outputs": [
    {
     "name": "stdout",
     "output_type": "stream",
     "text": [
      "{'_id': ObjectId('6210f3bef908538b3e74eff2'), 'item': 'paper', 'instock': [{'warehouse': 'A', 'qty': 60}, {'warehouse': 'B', 'qty': 15}]}\n",
      "{'_id': ObjectId('6210f3bef908538b3e74eff4'), 'item': 'postcard', 'instock': [{'warehouse': 'B', 'qty': 15}, {'warehouse': 'C', 'qty': 35}]}\n"
     ]
    }
   ],
   "source": [
    "cursor = db.inventory.find({\"instock\": {\"$elemMatch\": {\"warehouse\":\"B\", \"qty\": 15}}})\n",
    "print_cursor(cursor)"
   ]
  },
  {
   "cell_type": "code",
   "execution_count": 37,
   "id": "4b0a4c17",
   "metadata": {},
   "outputs": [
    {
     "name": "stdout",
     "output_type": "stream",
     "text": [
      "{'_id': ObjectId('6210f3bef908538b3e74eff0'), 'item': 'journal', 'instock': [{'warehouse': 'A', 'qty': 5}, {'warehouse': 'C', 'qty': 15}]}\n",
      "{'_id': ObjectId('6210f3bef908538b3e74eff2'), 'item': 'paper', 'instock': [{'warehouse': 'A', 'qty': 60}, {'warehouse': 'B', 'qty': 15}]}\n",
      "{'_id': ObjectId('6210f3bef908538b3e74eff4'), 'item': 'postcard', 'instock': [{'warehouse': 'B', 'qty': 15}, {'warehouse': 'C', 'qty': 35}]}\n"
     ]
    }
   ],
   "source": [
    "cursor = db.inventory.find({\"instock\": {\"$elemMatch\": {\"qty\": {\"$gt\": 5, \"$lte\": 30}}}})\n",
    "print_cursor(cursor)"
   ]
  },
  {
   "cell_type": "markdown",
   "id": "676eb233",
   "metadata": {},
   "source": [
    "### Combination of Elements Satisfies the Criteria"
   ]
  },
  {
   "cell_type": "markdown",
   "id": "9d62265a",
   "metadata": {},
   "source": [
    "---\n",
    "# Project Fields to Return from Query"
   ]
  },
  {
   "cell_type": "code",
   "execution_count": 38,
   "id": "436335c7",
   "metadata": {},
   "outputs": [],
   "source": [
    "client.drop_database(\"local\")"
   ]
  },
  {
   "cell_type": "code",
   "execution_count": 39,
   "id": "98b046c0",
   "metadata": {},
   "outputs": [
    {
     "data": {
      "text/plain": [
       "<pymongo.results.InsertManyResult at 0x1f23cca4e40>"
      ]
     },
     "execution_count": 39,
     "metadata": {},
     "output_type": "execute_result"
    }
   ],
   "source": [
    "db.inventory.insert_many([\n",
    "    {\"item\": \"journal\",\n",
    "     \"status\": \"A\",\n",
    "     \"size\": {\"h\": 14, \"w\": 21, \"uom\": \"cm\"},\n",
    "     \"instock\": [{\"warehouse\": \"A\", \"qty\": 5}]},\n",
    "    {\"item\": \"notebook\",\n",
    "     \"status\": \"A\",\n",
    "     \"size\": {\"h\": 8.5, \"w\": 11, \"uom\": \"in\"},\n",
    "     \"instock\": [{\"warehouse\": \"C\", \"qty\": 5}]},\n",
    "    {\"item\": \"paper\",\n",
    "     \"status\": \"D\",\n",
    "     \"size\": {\"h\": 8.5, \"w\": 11, \"uom\": \"in\"},\n",
    "     \"instock\": [{\"warehouse\": \"A\", \"qty\": 60}]},\n",
    "    {\"item\": \"planner\",\n",
    "     \"status\": \"D\",\n",
    "     \"size\": {\"h\": 22.85, \"w\": 30, \"uom\": \"cm\"},\n",
    "     \"instock\": [{\"warehouse\": \"A\", \"qty\": 40}]},\n",
    "    {\"item\": \"postcard\",\n",
    "     \"status\": \"A\",\n",
    "     \"size\": {\"h\": 10, \"w\": 15.25, \"uom\": \"cm\"},\n",
    "     \"instock\": [\n",
    "         {\"warehouse\": \"B\", \"qty\": 15},\n",
    "         {\"warehouse\": \"C\", \"qty\": 35}]}])"
   ]
  },
  {
   "cell_type": "markdown",
   "id": "d9413be1",
   "metadata": {},
   "source": [
    "## Return All Fields in Matching Documents"
   ]
  },
  {
   "cell_type": "code",
   "execution_count": 40,
   "id": "71c9ef82",
   "metadata": {},
   "outputs": [
    {
     "name": "stdout",
     "output_type": "stream",
     "text": [
      "{'_id': ObjectId('6210f3bef908538b3e74eff5'), 'item': 'journal', 'status': 'A', 'size': {'h': 14, 'w': 21, 'uom': 'cm'}, 'instock': [{'warehouse': 'A', 'qty': 5}]}\n",
      "{'_id': ObjectId('6210f3bef908538b3e74eff6'), 'item': 'notebook', 'status': 'A', 'size': {'h': 8.5, 'w': 11, 'uom': 'in'}, 'instock': [{'warehouse': 'C', 'qty': 5}]}\n",
      "{'_id': ObjectId('6210f3bef908538b3e74eff9'), 'item': 'postcard', 'status': 'A', 'size': {'h': 10, 'w': 15.25, 'uom': 'cm'}, 'instock': [{'warehouse': 'B', 'qty': 15}, {'warehouse': 'C', 'qty': 35}]}\n"
     ]
    }
   ],
   "source": [
    "cursor = db.inventory.find({\"status\": \"A\"})\n",
    "print_cursor(cursor)"
   ]
  },
  {
   "cell_type": "markdown",
   "id": "3d76c42b",
   "metadata": {},
   "source": [
    "## Return the Specified Fields and the _id Field Only"
   ]
  },
  {
   "cell_type": "code",
   "execution_count": 41,
   "id": "5d3bd46f",
   "metadata": {},
   "outputs": [
    {
     "name": "stdout",
     "output_type": "stream",
     "text": [
      "{'_id': ObjectId('6210f3bef908538b3e74eff7'), 'status': 'D'}\n",
      "{'_id': ObjectId('6210f3bef908538b3e74eff8'), 'status': 'D'}\n"
     ]
    }
   ],
   "source": [
    "cursor = db.inventory.find({\"status\": \"D\"}, {\"status\": 1})\n",
    "print_cursor(cursor)"
   ]
  },
  {
   "cell_type": "markdown",
   "id": "304539e0",
   "metadata": {},
   "source": [
    "## Suppress _id Field"
   ]
  },
  {
   "cell_type": "code",
   "execution_count": 42,
   "id": "d97ccb91",
   "metadata": {},
   "outputs": [
    {
     "name": "stdout",
     "output_type": "stream",
     "text": [
      "{'item': 'journal'}\n"
     ]
    }
   ],
   "source": [
    "cursor = db.inventory.find({\"item\": \"journal\"}, {\"item\": 1, \"_id\": 0})\n",
    "print_cursor(cursor)"
   ]
  },
  {
   "cell_type": "markdown",
   "id": "67d4c4cc",
   "metadata": {},
   "source": [
    "## Return All But the Excluded Fields"
   ]
  },
  {
   "cell_type": "code",
   "execution_count": 43,
   "id": "5b7ed648",
   "metadata": {},
   "outputs": [
    {
     "name": "stdout",
     "output_type": "stream",
     "text": [
      "{'_id': ObjectId('6210f3bef908538b3e74eff5'), 'item': 'journal', 'size': {'h': 14, 'w': 21, 'uom': 'cm'}, 'instock': [{'warehouse': 'A', 'qty': 5}]}\n",
      "{'_id': ObjectId('6210f3bef908538b3e74eff6'), 'item': 'notebook', 'size': {'h': 8.5, 'w': 11, 'uom': 'in'}, 'instock': [{'warehouse': 'C', 'qty': 5}]}\n",
      "{'_id': ObjectId('6210f3bef908538b3e74eff9'), 'item': 'postcard', 'size': {'h': 10, 'w': 15.25, 'uom': 'cm'}, 'instock': [{'warehouse': 'B', 'qty': 15}, {'warehouse': 'C', 'qty': 35}]}\n"
     ]
    }
   ],
   "source": [
    "cursor = db.inventory.find({\"status\": \"A\"}, {\"status\": 0})\n",
    "print_cursor(cursor)"
   ]
  },
  {
   "cell_type": "markdown",
   "id": "ee72c79e",
   "metadata": {},
   "source": [
    "## Return Specific Fields in Embedded Documents"
   ]
  },
  {
   "cell_type": "code",
   "execution_count": 44,
   "id": "3b55881f",
   "metadata": {},
   "outputs": [
    {
     "name": "stdout",
     "output_type": "stream",
     "text": [
      "{'_id': ObjectId('6210f3bef908538b3e74eff5'), 'item': 'journal', 'status': 'A', 'size': {'h': 14}}\n",
      "{'_id': ObjectId('6210f3bef908538b3e74eff6'), 'item': 'notebook', 'status': 'A', 'size': {'h': 8.5}}\n",
      "{'_id': ObjectId('6210f3bef908538b3e74eff9'), 'item': 'postcard', 'status': 'A', 'size': {'h': 10}}\n"
     ]
    }
   ],
   "source": [
    "cursor = db.inventory.find({\"status\": \"A\"}, {\"item\": 1, \"status\": 1, \"size.h\": 1})\n",
    "print_cursor(cursor)"
   ]
  },
  {
   "cell_type": "markdown",
   "id": "489a4ac1",
   "metadata": {},
   "source": [
    "## Suppress Specific Fields in Embedded Documents"
   ]
  },
  {
   "cell_type": "code",
   "execution_count": 45,
   "id": "592dfab8",
   "metadata": {},
   "outputs": [
    {
     "name": "stdout",
     "output_type": "stream",
     "text": [
      "{'_id': ObjectId('6210f3bef908538b3e74eff5'), 'item': 'journal', 'status': 'A', 'size': {'h': 14, 'uom': 'cm'}, 'instock': [{'warehouse': 'A', 'qty': 5}]}\n",
      "{'_id': ObjectId('6210f3bef908538b3e74eff6'), 'item': 'notebook', 'status': 'A', 'size': {'h': 8.5, 'uom': 'in'}, 'instock': [{'warehouse': 'C', 'qty': 5}]}\n",
      "{'_id': ObjectId('6210f3bef908538b3e74eff9'), 'item': 'postcard', 'status': 'A', 'size': {'h': 10, 'uom': 'cm'}, 'instock': [{'warehouse': 'B', 'qty': 15}, {'warehouse': 'C', 'qty': 35}]}\n"
     ]
    }
   ],
   "source": [
    "cursor = db.inventory.find({\"status\": \"A\"}, {\"size.w\": 0})\n",
    "print_cursor(cursor)"
   ]
  },
  {
   "cell_type": "markdown",
   "id": "7bcb6be8",
   "metadata": {},
   "source": [
    "## Projection on Embedded Documents in an Array"
   ]
  },
  {
   "cell_type": "code",
   "execution_count": 46,
   "id": "bbb303bf",
   "metadata": {},
   "outputs": [
    {
     "name": "stdout",
     "output_type": "stream",
     "text": [
      "{'_id': ObjectId('6210f3bef908538b3e74eff5'), 'item': 'journal', 'status': 'A', 'instock': [{'qty': 5}]}\n",
      "{'_id': ObjectId('6210f3bef908538b3e74eff6'), 'item': 'notebook', 'status': 'A', 'instock': [{'qty': 5}]}\n",
      "{'_id': ObjectId('6210f3bef908538b3e74eff9'), 'item': 'postcard', 'status': 'A', 'instock': [{'qty': 15}, {'qty': 35}]}\n"
     ]
    }
   ],
   "source": [
    "cursor = db.inventory.find({\"status\": \"A\"}, {\"item\": 1, \"status\": 1, \"instock.qty\": 1})\n",
    "print_cursor(cursor)"
   ]
  },
  {
   "cell_type": "markdown",
   "id": "5cd50d3b",
   "metadata": {},
   "source": [
    "## Project Specific Array Elements in the Returned Array\n",
    "For fields that contain arrays, MongoDB provides the following projection operators for manipulating arrays: `$elemMatch`, `$slice`, and `$`. Try them in lab."
   ]
  },
  {
   "cell_type": "code",
   "execution_count": 47,
   "id": "b73a3216",
   "metadata": {},
   "outputs": [
    {
     "name": "stdout",
     "output_type": "stream",
     "text": [
      "{'_id': ObjectId('6210f3bef908538b3e74eff5'), 'item': 'journal', 'status': 'A', 'instock': [{'warehouse': 'A', 'qty': 5}]}\n",
      "{'_id': ObjectId('6210f3bef908538b3e74eff6'), 'item': 'notebook', 'status': 'A', 'instock': [{'warehouse': 'C', 'qty': 5}]}\n",
      "{'_id': ObjectId('6210f3bef908538b3e74eff9'), 'item': 'postcard', 'status': 'A', 'instock': [{'warehouse': 'C', 'qty': 35}]}\n"
     ]
    }
   ],
   "source": [
    "cursor = db.inventory.find(\n",
    "    {\"status\": \"A\"}, {\"item\": 1, \"status\": 1, \"instock\": {\"$slice\": -1}}\n",
    ")\n",
    "print_cursor(cursor)"
   ]
  },
  {
   "cell_type": "markdown",
   "id": "5a67f5e7",
   "metadata": {},
   "source": [
    "---\n",
    "# Query for Null or Missing Fields"
   ]
  },
  {
   "cell_type": "code",
   "execution_count": 48,
   "id": "60c35337",
   "metadata": {},
   "outputs": [],
   "source": [
    "client.drop_database(\"local\")"
   ]
  },
  {
   "cell_type": "code",
   "execution_count": 49,
   "id": "7c6c1023",
   "metadata": {},
   "outputs": [],
   "source": [
    "db.inventory.insert_many([{\"_id\": 1, \"item\": None}, {\"_id\": 2}])\n",
    "print_cursor(cursor)"
   ]
  },
  {
   "cell_type": "markdown",
   "id": "7719f366",
   "metadata": {},
   "source": [
    "## Equality Filter"
   ]
  },
  {
   "cell_type": "code",
   "execution_count": 50,
   "id": "adcfc72a",
   "metadata": {},
   "outputs": [
    {
     "name": "stdout",
     "output_type": "stream",
     "text": [
      "{'_id': 1, 'item': None}\n",
      "{'_id': 2}\n"
     ]
    }
   ],
   "source": [
    "cursor = db.inventory.find({\"item\": None})\n",
    "print_cursor(cursor)"
   ]
  },
  {
   "cell_type": "markdown",
   "id": "56a9d513",
   "metadata": {},
   "source": [
    "## Type Check"
   ]
  },
  {
   "cell_type": "markdown",
   "id": "f20783f6",
   "metadata": {},
   "source": [
    "## Existence Check"
   ]
  },
  {
   "cell_type": "code",
   "execution_count": 51,
   "id": "785a10ed",
   "metadata": {},
   "outputs": [
    {
     "name": "stdout",
     "output_type": "stream",
     "text": [
      "{'_id': 1, 'item': None}\n"
     ]
    }
   ],
   "source": [
    "cursor = db.inventory.find({\"item\": {\"$exists\": True}})\n",
    "print_cursor(cursor)"
   ]
  },
  {
   "cell_type": "markdown",
   "id": "f0d13230",
   "metadata": {},
   "source": [
    "---\n",
    "# Update Documents"
   ]
  },
  {
   "cell_type": "code",
   "execution_count": 52,
   "id": "9666d1e1",
   "metadata": {},
   "outputs": [],
   "source": [
    "client.drop_database(\"local\")"
   ]
  },
  {
   "cell_type": "code",
   "execution_count": 53,
   "id": "1ef10c3a",
   "metadata": {},
   "outputs": [
    {
     "data": {
      "text/plain": [
       "<pymongo.results.InsertManyResult at 0x1f23cca8e80>"
      ]
     },
     "execution_count": 53,
     "metadata": {},
     "output_type": "execute_result"
    }
   ],
   "source": [
    "db.inventory.insert_many([\n",
    "    {\"item\": \"canvas\",\n",
    "     \"qty\": 100,\n",
    "     \"size\": {\"h\": 28, \"w\": 35.5, \"uom\": \"cm\"},\n",
    "     \"status\": \"A\"},\n",
    "    {\"item\": \"journal\",\n",
    "     \"qty\": 25,\n",
    "     \"size\": {\"h\": 14, \"w\": 21, \"uom\": \"cm\"},\n",
    "     \"status\": \"A\"},\n",
    "    {\"item\": \"mat\",\n",
    "     \"qty\": 85,\n",
    "     \"size\": {\"h\": 27.9, \"w\": 35.5, \"uom\": \"cm\"},\n",
    "     \"status\": \"A\"},\n",
    "    {\"item\": \"mousepad\",\n",
    "     \"qty\": 25,\n",
    "     \"size\": {\"h\": 19, \"w\": 22.85, \"uom\": \"cm\"},\n",
    "     \"status\": \"P\"},\n",
    "    {\"item\": \"notebook\",\n",
    "     \"qty\": 50,\n",
    "     \"size\": {\"h\": 8.5, \"w\": 11, \"uom\": \"in\"},\n",
    "     \"status\": \"P\"},\n",
    "    {\"item\": \"paper\",\n",
    "     \"qty\": 100,\n",
    "     \"size\": {\"h\": 8.5, \"w\": 11, \"uom\": \"in\"},\n",
    "     \"status\": \"D\"},\n",
    "    {\"item\": \"planner\",\n",
    "     \"qty\": 75,\n",
    "     \"size\": {\"h\": 22.85, \"w\": 30, \"uom\": \"cm\"},\n",
    "     \"status\": \"D\"},\n",
    "    {\"item\": \"postcard\",\n",
    "     \"qty\": 45,\n",
    "     \"size\": {\"h\": 10, \"w\": 15.25, \"uom\": \"cm\"},\n",
    "     \"status\": \"A\"},\n",
    "    {\"item\": \"sketchbook\",\n",
    "     \"qty\": 80,\n",
    "     \"size\": {\"h\": 14, \"w\": 21, \"uom\": \"cm\"},\n",
    "     \"status\": \"A\"},\n",
    "    {\"item\": \"sketch pad\",\n",
    "     \"qty\": 95,\n",
    "     \"size\": {\"h\": 22.85, \"w\": 30.5, \"uom\": \"cm\"},\n",
    "     \"status\": \"A\"}])"
   ]
  },
  {
   "cell_type": "markdown",
   "id": "b1d61894",
   "metadata": {},
   "source": [
    "## Update Documents in a Collection"
   ]
  },
  {
   "cell_type": "markdown",
   "id": "5aec6016",
   "metadata": {},
   "source": [
    "### Update a Single Document"
   ]
  },
  {
   "cell_type": "code",
   "execution_count": 54,
   "id": "841f4e18",
   "metadata": {},
   "outputs": [
    {
     "name": "stdout",
     "output_type": "stream",
     "text": [
      "{'_id': ObjectId('6210f3bef908538b3e74efff'), 'item': 'paper', 'qty': 100, 'size': {'h': 8.5, 'w': 11, 'uom': 'cm'}, 'status': 'P', 'lastModified': datetime.datetime(2022, 2, 19, 13, 42, 22, 950000)}\n"
     ]
    }
   ],
   "source": [
    "db.inventory.update_one(\n",
    "    {\"item\": \"paper\"},\n",
    "    {\"$set\": {\"size.uom\": \"cm\", \"status\": \"P\"},\n",
    "     \"$currentDate\": {\"lastModified\": True}})\n",
    "\n",
    "cursor = db.inventory.find({\"item\": \"paper\"})\n",
    "print_cursor(cursor)"
   ]
  },
  {
   "cell_type": "markdown",
   "id": "04ae7ed4",
   "metadata": {},
   "source": [
    "### Update Multiple  Documents"
   ]
  },
  {
   "cell_type": "code",
   "execution_count": 55,
   "id": "cd6d40e7",
   "metadata": {},
   "outputs": [
    {
     "data": {
      "text/plain": [
       "<pymongo.results.UpdateResult at 0x1f23bc5ec40>"
      ]
     },
     "execution_count": 55,
     "metadata": {},
     "output_type": "execute_result"
    }
   ],
   "source": [
    "db.inventory.update_many(\n",
    "    {\"qty\": {\"$gte\": 10}},\n",
    "    {\"$set\": {\"size.uom\": \"in\", \"status\": \"P\"}, \"$currentDate\": {\"lastModified\": True}},\n",
    ")\n"
   ]
  },
  {
   "cell_type": "markdown",
   "id": "03ff2d28",
   "metadata": {},
   "source": [
    "### Replace a Whole Document"
   ]
  },
  {
   "cell_type": "code",
   "execution_count": 56,
   "id": "9e3f5b22",
   "metadata": {},
   "outputs": [
    {
     "data": {
      "text/plain": [
       "<pymongo.results.UpdateResult at 0x1f23ccbe200>"
      ]
     },
     "execution_count": 56,
     "metadata": {},
     "output_type": "execute_result"
    }
   ],
   "source": [
    "db.inventory.replace_one(\n",
    "    {\"item\": \"notebook\"},\n",
    "    {\"item\": \"paper\",\"instock\": [{\"warehouse\": \"D\", \"qty\": 70}, {\"warehouse\": \"B\", \"qty\": 40}],\n",
    "    },\n",
    ")\n"
   ]
  },
  {
   "cell_type": "markdown",
   "id": "fd2c9c2d",
   "metadata": {},
   "source": [
    "---\n",
    "# Delete Documents"
   ]
  },
  {
   "cell_type": "code",
   "execution_count": 57,
   "id": "a99d6439",
   "metadata": {},
   "outputs": [],
   "source": [
    "client.drop_database(\"local\")"
   ]
  },
  {
   "cell_type": "code",
   "execution_count": 58,
   "id": "629f42b4",
   "metadata": {},
   "outputs": [
    {
     "data": {
      "text/plain": [
       "<pymongo.results.InsertManyResult at 0x1f23ccaa8c0>"
      ]
     },
     "execution_count": 58,
     "metadata": {},
     "output_type": "execute_result"
    }
   ],
   "source": [
    "db.inventory.insert_many([\n",
    "    {\"item\": \"journal\",\n",
    "     \"qty\": 25,\n",
    "     \"size\": {\"h\": 14, \"w\": 21, \"uom\": \"cm\"},\n",
    "     \"status\": \"A\"},\n",
    "    {\"item\": \"notebook\",\n",
    "     \"qty\": 50,\n",
    "     \"size\": {\"h\": 8.5, \"w\": 11, \"uom\": \"in\"},\n",
    "     \"status\": \"P\"},\n",
    "    {\"item\": \"paper\",\n",
    "     \"qty\": 100,\n",
    "     \"size\": {\"h\": 8.5, \"w\": 11, \"uom\": \"in\"},\n",
    "     \"status\": \"D\"},\n",
    "    {\"item\": \"planner\",\n",
    "     \"qty\": 75,\n",
    "     \"size\": {\"h\": 22.85, \"w\": 30, \"uom\": \"cm\"},\n",
    "     \"status\": \"D\"},\n",
    "    {\"item\": \"postcard\",\n",
    "     \"qty\": 45,\n",
    "     \"size\": {\"h\": 10, \"w\": 15.25, \"uom\": \"cm\"},\n",
    "     \"status\": \"A\"}])"
   ]
  },
  {
   "cell_type": "markdown",
   "id": "aa685302",
   "metadata": {},
   "source": [
    "## Delete All Documents"
   ]
  },
  {
   "cell_type": "code",
   "execution_count": 59,
   "id": "b9c517da",
   "metadata": {},
   "outputs": [
    {
     "data": {
      "text/plain": [
       "<pymongo.results.InsertManyResult at 0x1f23cca4b40>"
      ]
     },
     "execution_count": 59,
     "metadata": {},
     "output_type": "execute_result"
    }
   ],
   "source": [
    "db.inventory.insert_many([\n",
    "    {\"item\": \"journal\",\n",
    "     \"qty\": 25,\n",
    "     \"size\": {\"h\": 14, \"w\": 21, \"uom\": \"cm\"},\n",
    "     \"status\": \"A\"},\n",
    "    {\"item\": \"notebook\",\n",
    "     \"qty\": 50,\n",
    "     \"size\": {\"h\": 8.5, \"w\": 11, \"uom\": \"in\"},\n",
    "     \"status\": \"P\"},\n",
    "    {\"item\": \"paper\",\n",
    "     \"qty\": 100,\n",
    "     \"size\": {\"h\": 8.5, \"w\": 11, \"uom\": \"in\"},\n",
    "     \"status\": \"D\"},\n",
    "    {\"item\": \"planner\",\n",
    "     \"qty\": 75,\n",
    "     \"size\": {\"h\": 22.85, \"w\": 30, \"uom\": \"cm\"},\n",
    "     \"status\": \"D\"},\n",
    "    {\"item\": \"postcard\",\n",
    "     \"qty\": 45,\n",
    "     \"size\": {\"h\": 10, \"w\": 15.25, \"uom\": \"cm\"},\n",
    "     \"status\": \"A\"}])"
   ]
  },
  {
   "cell_type": "code",
   "execution_count": 60,
   "id": "69bfefb6",
   "metadata": {},
   "outputs": [
    {
     "data": {
      "text/plain": [
       "<pymongo.results.DeleteResult at 0x1f23ccc1b00>"
      ]
     },
     "execution_count": 60,
     "metadata": {},
     "output_type": "execute_result"
    }
   ],
   "source": [
    "db.inventory.delete_many({})"
   ]
  },
  {
   "cell_type": "markdown",
   "id": "338ebf18",
   "metadata": {},
   "source": [
    "## Delete All Documents that Match a Condition"
   ]
  },
  {
   "cell_type": "code",
   "execution_count": 61,
   "id": "e079a9fb",
   "metadata": {},
   "outputs": [
    {
     "data": {
      "text/plain": [
       "<pymongo.results.DeleteResult at 0x1f23cc6cc40>"
      ]
     },
     "execution_count": 61,
     "metadata": {},
     "output_type": "execute_result"
    }
   ],
   "source": [
    "db.inventory.delete_many({\"item\": \"planner\"})"
   ]
  },
  {
   "cell_type": "markdown",
   "id": "d30638b1",
   "metadata": {},
   "source": [
    "## Delete Only One Document that Matches a Condition"
   ]
  },
  {
   "cell_type": "code",
   "execution_count": 62,
   "id": "95faf016",
   "metadata": {},
   "outputs": [
    {
     "data": {
      "text/plain": [
       "<pymongo.results.DeleteResult at 0x1f23ccc10c0>"
      ]
     },
     "execution_count": 62,
     "metadata": {},
     "output_type": "execute_result"
    }
   ],
   "source": [
    "db.inventory.delete_one({\"item\": \"planner\"})\n"
   ]
  },
  {
   "cell_type": "code",
   "execution_count": null,
   "id": "4419c347",
   "metadata": {},
   "outputs": [],
   "source": []
  }
 ],
 "metadata": {
  "kernelspec": {
   "display_name": "Python 3 (ipykernel)",
   "language": "python",
   "name": "python3"
  },
  "language_info": {
   "codemirror_mode": {
    "name": "ipython",
    "version": 3
   },
   "file_extension": ".py",
   "mimetype": "text/x-python",
   "name": "python",
   "nbconvert_exporter": "python",
   "pygments_lexer": "ipython3",
   "version": "3.9.7"
  }
 },
 "nbformat": 4,
 "nbformat_minor": 5
}
